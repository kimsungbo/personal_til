{
 "cells": [
  {
   "cell_type": "markdown",
   "id": "5d373f38",
   "metadata": {},
   "source": [
    "# 그리디 알고리즘\n",
    "\n",
    "* 현재 상황에서 지금 당장 좋은 것만 고르는 방법"
   ]
  },
  {
   "cell_type": "markdown",
   "id": "4e4034f5",
   "metadata": {},
   "source": [
    "## 거스름 돈\n",
    "\n",
    "Q. 당신은 음식점의 계산을 도와주는 점원입니다. 카운터에는 거스름돈으로 사용할 500원, 100원, 50원, 10원짜리 동전이 무한히 존재한다고 가정합니다. 손님에게 거슬러 주아야 할 돈이 N원일 때 거슬러 주어야 할 동전의 최소 개수를 구하세요. 단 거슬러 줘야 할 돈 N은 항상 10의 배수입니다."
   ]
  },
  {
   "cell_type": "markdown",
   "id": "6f4f6d9d",
   "metadata": {},
   "source": [
    "### 정당성 분석\n",
    "가장 큰 화폐 단위부터 돈을 거슬러 주어야함 \n",
    "--> 큰 단위가 항상 작은 단위의 배수이므로 작은 단위의 동전들을 종합해 다른 해가 나올 수 없기 때문"
   ]
  },
  {
   "cell_type": "code",
   "execution_count": 2,
   "id": "f942bd53",
   "metadata": {},
   "outputs": [
    {
     "name": "stdout",
     "output_type": "stream",
     "text": [
      "6\n"
     ]
    }
   ],
   "source": [
    "n = 1260\n",
    "count = 0\n",
    "\n",
    "array = [500, 100, 50, 10]\n",
    "\n",
    "for coin in array:\n",
    "    count += n // coin\n",
    "    n %= coin\n",
    "    \n",
    "print(count)"
   ]
  },
  {
   "cell_type": "markdown",
   "id": "20304e67",
   "metadata": {},
   "source": [
    "### 시간복잡도\n",
    "* 화폐의 종류가 K라고 할때, 복잡도 = O(K)\n",
    "* 거슬러 줘야 하는 금액과는 무관, 동전의 총 종류에만 영향을 받음"
   ]
  },
  {
   "cell_type": "markdown",
   "id": "027a09d3",
   "metadata": {},
   "source": [
    "## 1이 될 때까지\n",
    "\n",
    "Q. 어떠한 수 N이 1이 될 때까지 다음의 두 과정 중 하느를 반복적으로 선택하여 수행하려고 합니다. 단, 두번째 연산은 N이 K로 나누어 떨어질 때만 선택할 수 있습니다.\n",
    "1. N에서 1을 뺍니다\n",
    "2. N을 K로 나눕니다.\n",
    "* 예를 들어 N이 17, K가 4라고 가정합니다. 이때 1번의 과정을 한 번 수행하면 N은 16이 됩니다. 이후에 2번의 과정을 두 번 수행하면 N은 1이 됩니다. 결과적으로 이 경우 전체 과정을 실행한 횟수는 3이 됩니다. 이는 N을 1로 만드는 최소 횟수입니다.\n",
    "* N과 K가 주어질 때 N이 1이 될 때까지 1번 혹은 2번의 과정을 수행해야 하는 최소 횟수를 구하는 프로그램을 작성하세요."
   ]
  },
  {
   "cell_type": "markdown",
   "id": "8a0aaf51",
   "metadata": {},
   "source": [
    "### 정당성 분석\n",
    "\n",
    "가능한 최대한 많이 나누는 작업 --> 기하급수적으로 수를 빠르게 줄일 수 있음"
   ]
  },
  {
   "cell_type": "code",
   "execution_count": 1,
   "id": "bcb8b38f",
   "metadata": {},
   "outputs": [
    {
     "name": "stdout",
     "output_type": "stream",
     "text": [
      "25 5\n",
      "2\n"
     ]
    }
   ],
   "source": [
    "n, k = map(int, input().split())\n",
    "\n",
    "count = 0\n",
    "while n > 1:\n",
    "    if n % k == 0:\n",
    "        n = n // k\n",
    "    else:\n",
    "        n -= 1\n",
    "        \n",
    "    count += 1\n",
    "    \n",
    "print(count)\n",
    "        "
   ]
  },
  {
   "cell_type": "markdown",
   "id": "d9a0ef53",
   "metadata": {},
   "source": [
    "## 곱하기 혹은 더하기\n",
    "\n",
    "Q. 각 자리가 숫자(0부터 9)로만 이루어진 문자열 S가 주어졌을 때, 왼쪽부터 오른쪽으로 하나씩 모든 숫자를 확인하며 숫자 사이에 'x' 혹은 '+' 연산자를 넣어 결과적으로 만들어질 수 있는 가장 큰 수를 구하는 프로그램을 작성하세요. 단 +보다 x를 계산하는 일반적인 방식과는 달리, 모든 연산은 왼쪽에서부터 순서대로 이루어진다고 가정합니다.\n",
    "* 예를 들어 02984라는 문자열로 만들 수 있는 가장 큰 수는 ((((0+2) X 9) X 8 ) X 4) = 576 입니다"
   ]
  },
  {
   "cell_type": "code",
   "execution_count": 8,
   "id": "75896ce9",
   "metadata": {},
   "outputs": [
    {
     "name": "stdout",
     "output_type": "stream",
     "text": [
      "567\n",
      "210\n"
     ]
    }
   ],
   "source": [
    "data =input()\n",
    "\n",
    "result = int(data[0])\n",
    "\n",
    "for i in range(1, len(data)):\n",
    "    num = int(data[i])\n",
    "    \n",
    "    if num <= 1 or result <= 1:\n",
    "        result += num\n",
    "    else: \n",
    "        result *= num\n",
    "        \n",
    "print(result)"
   ]
  },
  {
   "cell_type": "markdown",
   "id": "33832d9d",
   "metadata": {},
   "source": [
    "# 구현"
   ]
  },
  {
   "cell_type": "code",
   "execution_count": 13,
   "id": "8d9fdd48",
   "metadata": {},
   "outputs": [
    {
     "name": "stdout",
     "output_type": "stream",
     "text": [
      "( 0 , 0 ) ( 0 , 1 ) ( 0 , 2 ) ( 0 , 3 ) ( 0 , 4 ) \n",
      "( 1 , 0 ) ( 1 , 1 ) ( 1 , 2 ) ( 1 , 3 ) ( 1 , 4 ) \n",
      "( 2 , 0 ) ( 2 , 1 ) ( 2 , 2 ) ( 2 , 3 ) ( 2 , 4 ) \n",
      "( 3 , 0 ) ( 3 , 1 ) ( 3 , 2 ) ( 3 , 3 ) ( 3 , 4 ) \n",
      "( 4 , 0 ) ( 4 , 1 ) ( 4 , 2 ) ( 4 , 3 ) ( 4 , 4 ) \n"
     ]
    }
   ],
   "source": [
    "# 2차원 메트릭스\n",
    "\n",
    "for i in range(5):\n",
    "    for j in range(5):\n",
    "        print('(', i, ',', j, ')', end = ' ')\n",
    "    print()"
   ]
  },
  {
   "cell_type": "code",
   "execution_count": 14,
   "id": "aa573fd7",
   "metadata": {},
   "outputs": [
    {
     "name": "stdout",
     "output_type": "stream",
     "text": [
      "2 3\n",
      "1 2\n",
      "2 1\n",
      "3 2\n"
     ]
    }
   ],
   "source": [
    "# 방향 벡터\n",
    "\n",
    "#    동  북  서 남\n",
    "dx = [0, -1, 0, 1]\n",
    "dy = [1, 0, -1, 0]\n",
    "\n",
    "x, y = 2, 2\n",
    "\n",
    "for i in range(4):\n",
    "    nx = x + dx[i]\n",
    "    ny = y + dy[i]\n",
    "    print(nx, ny)"
   ]
  },
  {
   "cell_type": "markdown",
   "id": "dd98cee8",
   "metadata": {},
   "source": [
    "## 시각\n",
    "\n",
    "Q. 정수 N이 입력되면 00시 00분 00초 부터 N시 59분 59초까지의 모든 시각 중에서 3이 하나라도 포함되는 모든 경우의 수를 구하는 프로그램을 작성하세요. 예를 들어 1을 입력했을 때 다음은 3이 하나라도 포함되어 있으므로 세어야 하는 시각입니다.\n",
    "* 00시 00분 03초\n",
    "* 00시 13분 30초\n",
    "\n",
    "반면에 다음은 3이 하나도 포함되어 있지 않으므로 세명 안되는 시각입니다.\n",
    "* 00시 02분 55초\n",
    "* 01시 27분 45초"
   ]
  },
  {
   "cell_type": "code",
   "execution_count": 2,
   "id": "d6c80f96",
   "metadata": {},
   "outputs": [
    {
     "name": "stdout",
     "output_type": "stream",
     "text": [
      "5\n",
      "11475\n"
     ]
    }
   ],
   "source": [
    "N = int(input())\n",
    "\n",
    "count = 0\n",
    "for i in range(0, N+1):\n",
    "    for j in range(0, 60):\n",
    "        for k in range(0, 60):\n",
    "            time = str(i) + str(j) + str(k)\n",
    "            if '3' in time:\n",
    "                count += 1\n",
    "                \n",
    "print(count)"
   ]
  },
  {
   "cell_type": "markdown",
   "id": "6cff70b2",
   "metadata": {},
   "source": [
    "## 상하좌우\n",
    "\n",
    "여행가 A는 N X N크기의 정사각형 공간 위에 서 있습니다. 이 공간은 1 X 1 크기의 정사각형으로 나누어져 있습니다. 가장 왼쪽 위 좌표는 (1,1)이며 가장 오른쪽 아래 좌표는 (N, N)에 해당합니다. 여행가 A는 상, 하, 좌, 우 방향으로 이동할 수 있으며, 시작 좌표는 항상 (1, 1) 입니다. 우리 앞에는 여행가 A가 이동할 계획이 적힌 계획서가 놓여 있습니다.\n",
    "계획서에는 하나의 줄에 띄어쓰기를 기준으로 하여 L, R, U, D중 하나의 문자가 반복적으로 적혀 있습니다. 각 문자의 의미는 다음과 같습니다\n",
    "* L 왼쪽 한칸 이동\n",
    "* R 오른쪽 한칸 이동\n",
    "* U 위로 한칸 이동\n",
    "* D 아래로 한칸 이동"
   ]
  },
  {
   "cell_type": "code",
   "execution_count": 8,
   "id": "30d3a276",
   "metadata": {},
   "outputs": [
    {
     "name": "stdout",
     "output_type": "stream",
     "text": [
      "5\n",
      "R R R U D D\n",
      "D\n",
      "3 4\n"
     ]
    }
   ],
   "source": [
    "n = int(input())\n",
    "plans = list(map(str, input().split()))\n",
    "\n",
    "x, y = 1, 1\n",
    "\n",
    "#    L   R   U  D\n",
    "dx = [0, 0, -1, 1]\n",
    "dy = [-1, 1, 0, 0]\n",
    "\n",
    "move_types = ['L', 'R', 'U', 'D']\n",
    "\n",
    "for plan in plans:\n",
    "    for i in range(len(move_types)):\n",
    "        if plan == move_types[i]:\n",
    "            nx = x + dx[i]\n",
    "            ny = y + dy[i]\n",
    "            \n",
    "    if nx < 1 or ny < 1 or nx > n or ny > n:\n",
    "        continue\n",
    "        \n",
    "    x, y = nx, ny\n",
    "    \n",
    "print(x, y)"
   ]
  },
  {
   "cell_type": "markdown",
   "id": "45695627",
   "metadata": {},
   "source": [
    "## 문자열 재정렬\n",
    "\n",
    "알파벳 대문자와 숫자 (0~9)로만 구성된 문자야ㅕㄹ이 입력으로 주어집니다. 이때 모든 알파벳을 오름차순으로 정렬하여 이어서 출력한 뒤에, 그뒤에 모든 숫자를 더한 값을 이어서 출력합니다.\n",
    "예를 들어 K1KA5CB7이라는 값이 들어오면 ABCKK13을 출력합니다"
   ]
  },
  {
   "cell_type": "code",
   "execution_count": 14,
   "id": "658448fd",
   "metadata": {},
   "outputs": [
    {
     "name": "stdout",
     "output_type": "stream",
     "text": [
      "K1KA5CB7\n",
      "['1', '5', '7', 'A', 'B', 'C', 'K', 'K']\n",
      "ABCKK13\n"
     ]
    }
   ],
   "source": [
    "s = input()\n",
    "\n",
    "s = sorted(s)\n",
    "print(s)\n",
    "\n",
    "count = 0\n",
    "output = ''\n",
    "for i in s:\n",
    "    if i.isalpha():\n",
    "        output += i\n",
    "    else:\n",
    "        count += int(i)\n",
    "        \n",
    "print(output + str(count))"
   ]
  },
  {
   "cell_type": "code",
   "execution_count": null,
   "id": "f212fc1a",
   "metadata": {},
   "outputs": [],
   "source": []
  }
 ],
 "metadata": {
  "kernelspec": {
   "display_name": "Python 3 (ipykernel)",
   "language": "python",
   "name": "python3"
  },
  "language_info": {
   "codemirror_mode": {
    "name": "ipython",
    "version": 3
   },
   "file_extension": ".py",
   "mimetype": "text/x-python",
   "name": "python",
   "nbconvert_exporter": "python",
   "pygments_lexer": "ipython3",
   "version": "3.9.12"
  }
 },
 "nbformat": 4,
 "nbformat_minor": 5
}
