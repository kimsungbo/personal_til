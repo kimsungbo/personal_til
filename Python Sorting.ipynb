{
 "cells": [
  {
   "cell_type": "markdown",
   "id": "bf363261",
   "metadata": {},
   "source": [
    "# 정렬 알고리즘\n",
    "\n",
    "* 특정한 기준에 따라 순서대로 나열"
   ]
  },
  {
   "cell_type": "markdown",
   "id": "111af0c1",
   "metadata": {},
   "source": [
    "### 선택 정렬\n",
    "\n",
    "* 처리되지 않은 데이터 중에서 가장 작은 데이터를 선택해 맨 앞에 있는 데이터와 바꾸는 것을 반복\n",
    "\n",
    "\n",
    "7 5 9 0 3 1 6 2 4 6\n",
    "1. 처리되지 않은 데이터중 가장 작은 0을 선택해 가장 앞의 7과 바꾼다\n",
    "\n",
    "0 5 9 7 3 1 6 2 4 8\n",
    "\n",
    "2. 처리되지 않은 데이터 중 가장 작은 1을 선택해 가장 앞의 5와 바꾼다\n",
    "\n",
    "무한반복"
   ]
  },
  {
   "cell_type": "code",
   "execution_count": 2,
   "id": "2496974e",
   "metadata": {},
   "outputs": [
    {
     "name": "stdout",
     "output_type": "stream",
     "text": [
      "[0, 1, 2, 3, 5, 6, 7, 8, 4, 9]\n"
     ]
    }
   ],
   "source": [
    "array = [7, 5, 9, 0, 3, 1, 6, 2, 4, 8]\n",
    "\n",
    "for i in range(len(array)):\n",
    "    min_index = i\n",
    "    for j in range(i + 1, len(array)):\n",
    "        if array[min_index] > array[j]:\n",
    "            min_index = j\n",
    "            \n",
    "        array[i], array[min_index] = array[min_index], array[i]\n",
    "        \n",
    "print(array)"
   ]
  },
  {
   "cell_type": "code",
   "execution_count": 5,
   "id": "390369fb",
   "metadata": {},
   "outputs": [
    {
     "name": "stdout",
     "output_type": "stream",
     "text": [
      "3\n",
      "5\n",
      "7\n",
      "4\n",
      "8\n",
      "5\n",
      "6\n",
      "8\n",
      "9\n",
      "9\n",
      "[0, 1, 2, 3, 4, 5, 6, 7, 8, 9]\n"
     ]
    }
   ],
   "source": [
    "array = [7, 5, 9, 0, 3, 1, 6, 2, 4, 8]\n",
    "\n",
    "for i in range(len(array)):\n",
    "    min_index = array.index(min(array[i:]))\n",
    "    if array[min_index] < array[i]:\n",
    "        array[i], array[min_index] = array[min_index], array[i]\n",
    "                  \n",
    "print(array)"
   ]
  },
  {
   "cell_type": "markdown",
   "id": "6fb7fac6",
   "metadata": {},
   "source": [
    "* 선택정렬은 N번만큼 가장 작은 수를 찾아서 맨 앞으로 보내야 함\n",
    "* 전체 연산 횟수 : N + (N -1) + (N-2) + ... + 2\n",
    "* (N^2 + N - 2) / 2 = O(N^2)"
   ]
  },
  {
   "cell_type": "markdown",
   "id": "ca135423",
   "metadata": {},
   "source": [
    "### 삽입 정렬\n",
    "\n",
    "* 처리되지 않은 데이터를 하나씩 골라 적절한 위치에 삽입\n",
    "* 구현 난이도가 선택 정렬에 비해 높지만, 일반적으로 더 효율적임\n",
    "\n",
    "7 5 9 0 3 1 6 2 4 6\n",
    "1. 첫번째 데이터 7은 그 자체로 정렬이 되어 있다고 판단하고, 두번째 데이터인 5가 어떤 위치로 들어가야할지 판단 (7의 왼쪽에 들어가거나 오른쪽에 들어가거나 두 경우만 존재\n",
    "\n",
    "5 7 9 0 3 1 6 2 4 8\n",
    "\n",
    "2. 이어서 9가 어떤 위치로 들어갈지 판단\n",
    "\n",
    "무한반복"
   ]
  },
  {
   "cell_type": "code",
   "execution_count": 7,
   "id": "ee00d021",
   "metadata": {},
   "outputs": [
    {
     "name": "stdout",
     "output_type": "stream",
     "text": [
      "[5, 7, 9, 0, 3, 1, 6, 2, 4, 8]\n",
      "[5, 7, 0, 9, 3, 1, 6, 2, 4, 8]\n",
      "[5, 0, 7, 9, 3, 1, 6, 2, 4, 8]\n",
      "[0, 5, 7, 9, 3, 1, 6, 2, 4, 8]\n",
      "[0, 5, 7, 3, 9, 1, 6, 2, 4, 8]\n",
      "[0, 5, 3, 7, 9, 1, 6, 2, 4, 8]\n",
      "[0, 3, 5, 7, 9, 1, 6, 2, 4, 8]\n",
      "[0, 3, 5, 7, 1, 9, 6, 2, 4, 8]\n",
      "[0, 3, 5, 1, 7, 9, 6, 2, 4, 8]\n",
      "[0, 3, 1, 5, 7, 9, 6, 2, 4, 8]\n",
      "[0, 1, 3, 5, 7, 9, 6, 2, 4, 8]\n",
      "[0, 1, 3, 5, 7, 6, 9, 2, 4, 8]\n",
      "[0, 1, 3, 5, 6, 7, 9, 2, 4, 8]\n",
      "[0, 1, 3, 5, 6, 7, 2, 9, 4, 8]\n",
      "[0, 1, 3, 5, 6, 2, 7, 9, 4, 8]\n",
      "[0, 1, 3, 5, 2, 6, 7, 9, 4, 8]\n",
      "[0, 1, 3, 2, 5, 6, 7, 9, 4, 8]\n",
      "[0, 1, 2, 3, 5, 6, 7, 9, 4, 8]\n",
      "[0, 1, 2, 3, 5, 6, 7, 4, 9, 8]\n",
      "[0, 1, 2, 3, 5, 6, 4, 7, 9, 8]\n",
      "[0, 1, 2, 3, 5, 4, 6, 7, 9, 8]\n",
      "[0, 1, 2, 3, 4, 5, 6, 7, 9, 8]\n",
      "[0, 1, 2, 3, 4, 5, 6, 7, 9, 8]\n"
     ]
    }
   ],
   "source": [
    "array = [7, 5, 9, 0, 3, 1, 6, 2, 4, 8]\n",
    "\n",
    "for i in range(1, len(array) - 1):\n",
    "    for j in range(i, 0, -1):\n",
    "        if array[j] < array[j-1]:\n",
    "            array[j], array[j-1] = array[j-1], array[j]\n",
    "        else:\n",
    "            break\n",
    "        print(array)\n",
    "print(array)"
   ]
  },
  {
   "cell_type": "markdown",
   "id": "6734a050",
   "metadata": {},
   "source": [
    "* 삽입정렬의 시간 복잡도는 O(N^2)이며, 선택 정렬과 마찬가지로 반복문이 두번 중첩됨.\n",
    "* 현재 리스트의 데이터가 거의 정렬되어 있는 상태라면 매우 빠르게 동장합\n",
    "* 최선의 경우 O(N)"
   ]
  },
  {
   "cell_type": "markdown",
   "id": "410691b3",
   "metadata": {},
   "source": [
    "### 퀵 정렬\n",
    "\n",
    "* 기준 데이터를 설정하고 그 기준보다 큰 데이터와 작은 데이터의 위치를 바꾸는 방법\n",
    "* 일반적인 상황에서 가장 많이 사용되는 정렬 알고리즘\n",
    "* 병합 정렬과 더불어 대부분의 프로그래밍 언어의 정렬 라이브러리의 근간이 되는 알고리즘\n",
    "* 가장 기본적인 퀵 정렬은 첫 번째 데이터를 기준 데이터(pivot)로 설정\n",
    "\n",
    "5 7 9 0 3 1 6 2 4 8\n",
    "\n",
    "1. 현재 피벗의 값은 5. 왼쪽에서부터 5보다 큰 데이터를 선택하므로 7이 선택되고, 오른쪽에서부터 5보다 작은 데이터를 선택하므로 4가 선택됨. 이제 이 두 데이터의 위치를 서로 변경\n",
    "\n",
    "5 4 9 0 3 1 6 2 7 8\n",
    "\n",
    "2. 현재 피벗의 값은 5. 왼쪽에서부터 5보다 큰 데이터를 선택하므로 9이 선택되고, 오른쪽에서부터 5보다 작은 데이터를 선택하므로 2가 선택됨. 이제 이 두 데이터의 위치를 서로 변경\n",
    "\n",
    "5 4 2 0 3 1 6 9 7 8\n",
    "\n",
    "2. 현재 피벗의 값은 5. 왼쪽에서부터 5보다 큰 데이터를 선택하므로 6이 선택되고, 오른쪽에서부터 5보다 작은 데이터를 선택하므로 1가 선택됨. 이럴 경우 위치가 엇갈림 --> 피벗과 작은 데이터의 위치를 서로 변경함\n",
    "\n",
    "(1 4 2 0 3) 5 (6 9 7 8)\n",
    "\n",
    "3. 이제 5의 왼쪽에 있는 데이터는 모두 5보다 작고, 오른쪽에 있는 데이터는 모두 5보다 크다는 특징이 있음 (피벗을 기준으로 데이터 묶음을 나누는 작업을 분할이라고 함)\n",
    "\n",
    "4. 왼쪽 데이터 묶음 끼리 정렬, 오른쪽 데이터 묶음 끼리 정렬\n",
    "\n",
    "* 평균 시간 복잡도 O(NlogN)\n",
    "* 최악의 경우 O(N^2)"
   ]
  },
  {
   "cell_type": "code",
   "execution_count": 1,
   "id": "a590b754",
   "metadata": {},
   "outputs": [
    {
     "name": "stdout",
     "output_type": "stream",
     "text": [
      "[0, 1, 2, 3, 4, 5, 6, 7, 8, 9]\n"
     ]
    }
   ],
   "source": [
    " array = [5, 7, 9, 0, 3, 1, 6, 2, 4, 8]\n",
    "    \n",
    "def quick_sort(array, start, end):\n",
    "    # 원소가 1개인 경우 종류\n",
    "    if start >= end: \n",
    "        return\n",
    "    \n",
    "    # 피벗은 첫 번째 원소\n",
    "    pivot = start\n",
    "    left = start + 1\n",
    "    right = end\n",
    "    \n",
    "    while (left <= right):\n",
    "        # 피벗보다 큰 값을 찾을때 까지 반복\n",
    "        while (left <= end and array[left] <= array[pivot]):\n",
    "            left += 1\n",
    "        # 피벗보다 작은 데이터를 찾을 때 까지 반복\n",
    "        while (right > start and array[right] >= array[pivot]):\n",
    "            right -= 1\n",
    "        # 엇갈렸다면 작은 데이터와 피벗을 교체\n",
    "        if ( left > right):\n",
    "            array[right], array[pivot] = array[pivot], array[right]\n",
    "        # 엇갈리지 않았다면 작은 데이터와 큰 데이터를 교체\n",
    "        else:\n",
    "            array[left], array[right] = array[right], array[left]\n",
    "            \n",
    "    # 분할 이후 왼쪽 부분과 오른쪽 부분에서 각각 정렬 수행\n",
    "    quick_sort(array, start, right - 1)\n",
    "    quick_sort(array, right + 1, end)\n",
    "    \n",
    "quick_sort(array, 0, len(array) - 1)\n",
    "print(array)"
   ]
  },
  {
   "cell_type": "code",
   "execution_count": 2,
   "id": "261390c1",
   "metadata": {},
   "outputs": [
    {
     "name": "stdout",
     "output_type": "stream",
     "text": [
      "[0, 1, 2, 3, 4, 5, 6, 7, 8, 9]\n"
     ]
    }
   ],
   "source": [
    "array = [5, 7, 9, 0, 3, 1, 6, 2, 4, 8]\n",
    "\n",
    "def quick_sort(array):\n",
    "    if len(array) <= 1:\n",
    "        return array\n",
    "    \n",
    "    pivot= array[0]\n",
    "    tail = array[1:]\n",
    "    \n",
    "    left_side = [x for x in tail if x <= pivot]\n",
    "    right_side = [x for x in tail if x > pivot]\n",
    "    \n",
    "    return quick_sort(left_side) + [pivot] + quick_sort(right_side)\n",
    "\n",
    "print(quick_sort(array))"
   ]
  },
  {
   "cell_type": "markdown",
   "id": "93d260ae",
   "metadata": {},
   "source": [
    "Q. 동빈이는 두 개의 배열 A와 B를 가지고 있다. 두 배열은 N개의 원소로 구성되어 있으며, 배열의 원소는 모두 자연수입니다.\n",
    "동빈이는 최대 K번의 바꿔치기 연산을 수행할 수 있는데, 바꿔치기 연산이란 배열 A에 있는 원소 하나와 배열 B에 있는 원소 하나를 골라서 두 원소를 서로 바꾸는 것을 말합니다.\n",
    "동빈이의 최종 목표는 배열 A의 모든 원소의 합이 최대가 되도록 하는 것이며, 여러분은 동빈이를 도와야 합니다.\n",
    "N, K 그리고 배열 A와 B의 정보가 주어졌을때, 최대 K번의 바꿔치기 연산을 수행하여 만들 수 있는 배열 A의 모든 원소의 합이 최댓값을 출력하는 프로그램을 작성하세요."
   ]
  },
  {
   "cell_type": "code",
   "execution_count": 7,
   "id": "cf91e263",
   "metadata": {},
   "outputs": [
    {
     "name": "stdout",
     "output_type": "stream",
     "text": [
      "5 3\n",
      "1 2 5 4 3\n",
      "5 5 6 6 5\n",
      "[1, 2, 5, 4, 3]\n",
      "[5, 5, 6, 6, 5]\n",
      "26\n"
     ]
    }
   ],
   "source": [
    "n, k = map(int, input().split())\n",
    "\n",
    "a = list(map(int, input().split()))\n",
    "b = list(map(int, input().split()))\n",
    "\n",
    "print(a)\n",
    "print(b)\n",
    "\n",
    "a.sort()\n",
    "b.sort(reverse=True)\n",
    "\n",
    "for i in range(k):\n",
    "    if a[i] < b[i]:\n",
    "        a[i], b[i] = b[i], a[i]\n",
    "    else:\n",
    "        break\n",
    "        \n",
    "print(sum(a))"
   ]
  },
  {
   "cell_type": "markdown",
   "id": "3a9da8eb",
   "metadata": {},
   "source": [
    "## 이진 탐색 알고리즘\n",
    "\n",
    "* 순차 탐색: 리스트 안에 있는 특정한 데이터를 찾기 위해 앞에서부터 데이터를 하나씩 확인하는 방법\n",
    "* 이진 탐색: 정렬되어 있는 리스트에서 탐색 범위를 절반씩 좁혀가며 데이터를 탐색 하는 방법 (시작점, 끝점, 중간점을 이용하여 탐색 범위를 설정)\n",
    "\n",
    "    \n",
    "이미 정렬된 10개의 데이터 중에서 값이 4인 원소를 찾는 예시\n"
   ]
  },
  {
   "cell_type": "code",
   "execution_count": 8,
   "id": "352595a6",
   "metadata": {},
   "outputs": [],
   "source": [
    "# 0        2 4 6    8     10 12 14 16       18\n",
    "# 시작[0]         중간[4]                 끝점[9]\n",
    "\n",
    "\n",
    "# 0          2      4    6     8     10 12 14 16       18\n",
    "# 시작[0] 중간[1]      끝점[3]\n",
    "\n",
    "# 0          2      4      6     8     10 12 14 16       18\n",
    "#                시작[2] \n",
    "#                중간[2] 끝점[3]"
   ]
  },
  {
   "cell_type": "markdown",
   "id": "8d6d19e6",
   "metadata": {},
   "source": [
    "\n",
    "* 단계마다 탐색 범위를 2로 나누는 것과 동일하므로 연산횟수는 log(2)N에 비례\n",
    "* 탐색 범위를 절반씩 줄이며, 시간 복잡도는 O(logN)을 보장함"
   ]
  },
  {
   "cell_type": "code",
   "execution_count": 9,
   "id": "18673d8e",
   "metadata": {},
   "outputs": [
    {
     "name": "stdout",
     "output_type": "stream",
     "text": [
      "10 7\n",
      "1 3 5 7 9 11 13 15 17 19\n",
      "4\n"
     ]
    }
   ],
   "source": [
    "# 재귀적 구현\n",
    "\n",
    "def binary_search(array, target, start, end):\n",
    "    if start > end:\n",
    "        return None\n",
    "    mid = (start + end) // 2\n",
    "    \n",
    "    if array[mid] == target:\n",
    "        return mid\n",
    "    elif array[mid] > target:\n",
    "        return binary_search(array, target, start, mid-1)\n",
    "    else:\n",
    "        return binary_search(array, target, mid + 1, end)\n",
    "    \n",
    "n, target = list(map(int, input().split()))\n",
    "array = list(map(int, input().split()))\n",
    "\n",
    "result = binary_search(array, target, 0, n-1)\n",
    "if result == None:\n",
    "    print(\"원소가 존재하지 않습니다\")\n",
    "else:\n",
    "    print(result + 1)"
   ]
  },
  {
   "cell_type": "code",
   "execution_count": 11,
   "id": "02cacfed",
   "metadata": {},
   "outputs": [
    {
     "name": "stdout",
     "output_type": "stream",
     "text": [
      "10 7\n",
      "1 3 5 7 9 11 13 15 17 19\n",
      "4\n"
     ]
    }
   ],
   "source": [
    "# 반복적 구현\n",
    "\n",
    "def binary_search(array, target, start, end):\n",
    "    while start <= end:\n",
    "        mid = (start + end) // 2\n",
    "    \n",
    "        if array[mid] == target:\n",
    "            return mid\n",
    "        elif array[mid] > target:\n",
    "            end = mid - 1\n",
    "        else:\n",
    "            start = mid + 1\n",
    "            \n",
    "    return None\n",
    "    \n",
    "n, target = list(map(int, input().split()))\n",
    "array = list(map(int, input().split()))\n",
    "\n",
    "result = binary_search(array, target, 0, n-1)\n",
    "if result == None:\n",
    "    print(\"원소가 존재하지 않습니다\")\n",
    "else:\n",
    "    print(result + 1)"
   ]
  },
  {
   "cell_type": "code",
   "execution_count": 13,
   "id": "2623fe39",
   "metadata": {},
   "outputs": [
    {
     "name": "stdout",
     "output_type": "stream",
     "text": [
      "2\n",
      "4\n"
     ]
    }
   ],
   "source": [
    "# 파이썬 이진 탐색 라이브러리\n",
    "\n",
    "# bisect_left(a, x) : 정렬된 순서를 유지하면서 배열 a에 x를 삽입할 가장 왼쪽 위치를 반환\n",
    "# bisect_right(a, x ): 정렬된 순서를 유지하면서 배열 a에 x를 삽입할 가장 오른쪽 위치를 반환\n",
    "    \n",
    "from bisect import bisect_left, bisect_right\n",
    "\n",
    "a = [ 1, 2, 4, 4, 8]\n",
    "x = 4\n",
    "\n",
    "print(bisect_left(a, x))\n",
    "print(bisect_right(a, x))"
   ]
  },
  {
   "cell_type": "code",
   "execution_count": 14,
   "id": "021d3e30",
   "metadata": {},
   "outputs": [
    {
     "name": "stdout",
     "output_type": "stream",
     "text": [
      "2\n",
      "7\n"
     ]
    }
   ],
   "source": [
    "# 값이 특정 범위에 속하는 데이터 개수 구하기\n",
    "\n",
    "from bisect import bisect_left, bisect_right\n",
    "\n",
    "def count_by_range(a, left_value, right_value):\n",
    "    right_index = bisect_right(a, right_value)\n",
    "    left_index = bisect_left(a, left_value)\n",
    "    return right_index - left_index\n",
    "\n",
    "a = [1, 2, 3, 3, 3, 3, 3, 4, 4, 8, 9]\n",
    "\n",
    "print(count_by_range(a, 4, 4))\n",
    "print(count_by_range(a, -1, 3))"
   ]
  },
  {
   "cell_type": "markdown",
   "id": "5f5bf39b",
   "metadata": {},
   "source": [
    "### 파라메트릭 서치\n",
    "\n",
    "* 최적화 문제를 결정 문제(예/아니요)로 바꾸어 해결하는 기법\n",
    "* 예지: 특정한 조건을 만족하는 가장 알맞은 값을 빠르게 찾는 최적화 문제\n",
    "* 이진 탐색을 이용하여 해결 가능"
   ]
  },
  {
   "cell_type": "markdown",
   "id": "978d83c2",
   "metadata": {},
   "source": [
    "Q. 오늘 동빈이는 여행 가신 부모님을 대신해서 떡집 일을 하기로 했습니다. 오늘은 떡볶이 떡을 만드는 날입니다. 동빈이네 떡볶이 떡은 재밌게도 떡볶이 떡의 길이가 일정하지 않습니다. 대신 한봉지 안에 들어가 있는 떡의 총 길이는 절단기로 잘라서 맞춥니다.\n",
    "절단기에 높이 H를 지정하면 줄지어진 떡을 한번에 절단합니다. 높이가 H 보다 긴 떡은 H 위의 부분이 잘릴 것이고, 낮은 떡은 잘리지 않습니다.\n",
    "예를 들어 높이가 19, 14, 10, 17인 떡이 나란히 있고 절단기 높이를 15로 지정하면 자른 뒤 떡의 높이는 15, 14, 10, 15가 될것입니다. 잘린 떡의 길이는 차례대로 4, 0, 0, 2 입니다.\n",
    "손님은 6만큼의 길이를 가져갑니다.\n",
    "손님이 왔을 때 요청한 총 길이가 M일때 적어도 M만큼의 떢을 얻기 위해 절단기에 설정할 수 있는 높이의 최댓값을 구하는 프로그램을 작성하세요. "
   ]
  },
  {
   "cell_type": "markdown",
   "id": "456c3fd3",
   "metadata": {},
   "source": [
    "#### 문제 해결 아이디어\n",
    "\n",
    "* 적절한 높이를 찾을 때까지 이진 탐색을 숭행하여 높이 H를 반복해서 조정함\n",
    "* 현재 이 높이로 자르면 조건을 만족할 수 있는가? 를 확인한 뒤에 조건의 만족 여부(예/아니오)에 따라서 탐색 범위를 좁혀서 해결 할 수 있음"
   ]
  },
  {
   "cell_type": "code",
   "execution_count": 24,
   "id": "45447920",
   "metadata": {},
   "outputs": [
    {
     "name": "stdout",
     "output_type": "stream",
     "text": [
      "4 6\n",
      "10 15 19 17\n",
      "15\n"
     ]
    }
   ],
   "source": [
    "n, m = map(int, input().split())\n",
    "array = list(map(int ,input().split()))\n",
    "\n",
    "start = 0\n",
    "end = max(array)\n",
    "result = 0\n",
    "\n",
    "while (start <= end):\n",
    "    total = 0\n",
    "    mid = (start + end )// 2\n",
    "    \n",
    "    cut = [x-mid for x in array if x > mid]\n",
    "    total += sum(cut)\n",
    "    \n",
    "    if total < m:\n",
    "        end = mid - 1\n",
    "    else:\n",
    "        result = mid\n",
    "        start = mid + 1\n",
    "        \n",
    "print(result)\n",
    "    "
   ]
  },
  {
   "cell_type": "markdown",
   "id": "8c563c45",
   "metadata": {},
   "source": [
    "Q. N개의 원소를 포함하고 있는 수열이 오름차순으로 정렬되어 있습니다. 이때 이 수열에서 x가 등장하는 횟수를 계산하세요. 예를들어 수열 {1, 1, 2, 2, 2, 2, 3}이 있을때 x=2라면 현재수열에서 값이 2인 원소가 4개이므로 4를 출력합니다\n",
    "단, 이문제는 시간 복잡도 O(logN)으로 알고리즘을 설꼐하지 않으면 시간초과임."
   ]
  },
  {
   "cell_type": "code",
   "execution_count": 27,
   "id": "b90b7866",
   "metadata": {},
   "outputs": [
    {
     "name": "stdout",
     "output_type": "stream",
     "text": [
      "7 2\n",
      "1 1 2 2 2 2 3\n",
      "4\n"
     ]
    }
   ],
   "source": [
    "from bisect import bisect_left, bisect_right\n",
    "\n",
    "n, x = map(int, input().split())\n",
    "array = list(map(int, input().split()))\n",
    "\n",
    "\n",
    "left = bisect_left(array, x)\n",
    "right = bisect_right(array, x)\n",
    "\n",
    "answer= right - left\n",
    "\n",
    "if answer == 0:\n",
    "    print(-1)\n",
    "else:\n",
    "    print(right - left)"
   ]
  },
  {
   "cell_type": "code",
   "execution_count": null,
   "id": "0f59e7c7",
   "metadata": {},
   "outputs": [],
   "source": []
  }
 ],
 "metadata": {
  "kernelspec": {
   "display_name": "Python 3 (ipykernel)",
   "language": "python",
   "name": "python3"
  },
  "language_info": {
   "codemirror_mode": {
    "name": "ipython",
    "version": 3
   },
   "file_extension": ".py",
   "mimetype": "text/x-python",
   "name": "python",
   "nbconvert_exporter": "python",
   "pygments_lexer": "ipython3",
   "version": "3.9.12"
  }
 },
 "nbformat": 4,
 "nbformat_minor": 5
}
